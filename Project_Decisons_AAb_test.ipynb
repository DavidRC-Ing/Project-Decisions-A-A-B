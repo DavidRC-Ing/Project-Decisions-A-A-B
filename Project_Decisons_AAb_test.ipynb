{
 "cells": [
  {
   "cell_type": "markdown",
   "id": "a5979cd5",
   "metadata": {},
   "source": [
    "# PROYECTO TOMA DE DESICIONES A/A/B TEST\n"
   ]
  },
  {
   "cell_type": "markdown",
   "id": "6b1119bd",
   "metadata": {},
   "source": [
    "## Introducción\n",
    "\n",
    "En el entorno altamente competitivo de las aplicaciones móviles de comercio electrónico, comprender el comportamiento del usuario es clave para mejorar la conversión y optimizar la experiencia digital. Este proyecto se desarrolla en el contexto de una empresa emergente dedicada a la venta de productos alimenticios a través de una aplicación móvil. El equipo de diseño propone un cambio en la tipografía de la aplicación para mejorar su apariencia, pero existe preocupación sobre cómo este cambio puede afectar la percepción y la interacción del usuario. Para tomar decisiones fundamentadas, se ha planteado un análisis exhaustivo de los datos de uso de la aplicación, con especial énfasis en el embudo de ventas y en los resultados de un experimento controlado tipo A/A/B."
   ]
  },
  {
   "cell_type": "markdown",
   "id": "87fab8c3",
   "metadata": {},
   "source": [
    "## Objetivo General\n",
    "Analizar el comportamiento de los usuarios dentro de la aplicación de una empresa emergente de productos alimenticios mediante el estudio del embudo de ventas y la evaluación de un experimento A/A/B, con el fin de identificar cuellos de botella en el proceso de conversión y determinar si un cambio en la tipografía tiene un impacto significativo en la interacción de los usuarios."
   ]
  },
  {
   "cell_type": "markdown",
   "id": "f33f47da",
   "metadata": {},
   "source": [
    "## Descripción de los datos\n",
    "Cada entrada de registro es una acción de usuario o un evento.\n",
    "\n",
    "- ``EventName``: nombre del evento.\n",
    "- ``DeviceIDHash``: identificador de usuario unívoco.\n",
    "- ``EventTimestamp``: hora del evento.\n",
    "- ``ExpId``: número de experimento. 246 y 247 son los grupos de control, y 248 es el grupo de prueba."
   ]
  },
  {
   "cell_type": "code",
   "execution_count": 413,
   "id": "51d7a307",
   "metadata": {},
   "outputs": [],
   "source": [
    "# Cargar todas las librerias\n",
    "import pandas as pd \n",
    "import datetime as dt\n",
    "import seaborn as sns\n",
    "import matplotlib.pyplot as plt\n",
    "import scipy.stats as stats\n",
    "import numpy as np"
   ]
  },
  {
   "cell_type": "code",
   "execution_count": 414,
   "id": "a486e771",
   "metadata": {},
   "outputs": [
    {
     "name": "stdout",
     "output_type": "stream",
     "text": [
      "                      EventName         DeviceIDHash  EventTimestamp  ExpId\n",
      "0              MainScreenAppear  4575588528974610257      1564029816    246\n",
      "1              MainScreenAppear  7416695313311560658      1564053102    246\n",
      "2       PaymentScreenSuccessful  3518123091307005509      1564054127    248\n",
      "3              CartScreenAppear  3518123091307005509      1564054127    248\n",
      "4       PaymentScreenSuccessful  6217807653094995999      1564055322    248\n",
      "...                         ...                  ...             ...    ...\n",
      "244121         MainScreenAppear  4599628364049201812      1565212345    247\n",
      "244122         MainScreenAppear  5849806612437486590      1565212439    246\n",
      "244123         MainScreenAppear  5746969938801999050      1565212483    246\n",
      "244124         MainScreenAppear  5746969938801999050      1565212498    246\n",
      "244125       OffersScreenAppear  5746969938801999050      1565212517    246\n",
      "\n",
      "[244126 rows x 4 columns]\n"
     ]
    }
   ],
   "source": [
    "# Cargar el dataset\n",
    "\n",
    "data_event=pd.read_csv('/Users/ASUS/OneDrive/Documentos/Tripleten/Proyecto Spring 11/logs_exp_us.csv', sep='\\t')\n",
    "\n",
    "print(data_event)"
   ]
  },
  {
   "cell_type": "markdown",
   "id": "d8fd1b93",
   "metadata": {},
   "source": [
    "## Prepocesamiento de los datos"
   ]
  },
  {
   "cell_type": "markdown",
   "id": "9dd79c2e",
   "metadata": {},
   "source": [
    "De acuerdo con la descripción del dataset, se realiza un preprocesamiento que incluye la eliminación de duplicados, la conversión de los valores de fecha a un formato compatible y la estandarización de los datos. Este proceso permite organizar la información de manera estructurada, garantizar la correcta asignación de tipos de datos y optimizar el rendimiento durante la ejecución del código, lo cual es fundamental para el desarrollo eficiente del análisis.\n"
   ]
  },
  {
   "cell_type": "code",
   "execution_count": 415,
   "id": "f3758754",
   "metadata": {},
   "outputs": [
    {
     "name": "stdout",
     "output_type": "stream",
     "text": [
      "<class 'pandas.core.frame.DataFrame'>\n",
      "Index: 243713 entries, 0 to 244125\n",
      "Data columns (total 4 columns):\n",
      " #   Column          Non-Null Count   Dtype \n",
      "---  ------          --------------   ----- \n",
      " 0   EventName       243713 non-null  object\n",
      " 1   DeviceIDHash    243713 non-null  int64 \n",
      " 2   EventTimestamp  243713 non-null  int64 \n",
      " 3   ExpId           243713 non-null  int64 \n",
      "dtypes: int64(3), object(1)\n",
      "memory usage: 9.3+ MB\n"
     ]
    }
   ],
   "source": [
    "# Eliminar duplicados\n",
    "data_event.drop_duplicates(inplace=True)\n",
    "\n",
    "data_event.info()"
   ]
  },
  {
   "cell_type": "code",
   "execution_count": 416,
   "id": "93a7b6e3",
   "metadata": {},
   "outputs": [
    {
     "name": "stdout",
     "output_type": "stream",
     "text": [
      "<class 'pandas.core.frame.DataFrame'>\n",
      "Index: 243713 entries, 0 to 244125\n",
      "Data columns (total 4 columns):\n",
      " #   Column           Non-Null Count   Dtype         \n",
      "---  ------           --------------   -----         \n",
      " 0   event_name       243713 non-null  object        \n",
      " 1   device_id_hash   243713 non-null  int64         \n",
      " 2   event_timestamp  243713 non-null  datetime64[ns]\n",
      " 3   exp_id           243713 non-null  int64         \n",
      "dtypes: datetime64[ns](1), int64(2), object(1)\n",
      "memory usage: 9.3+ MB\n"
     ]
    }
   ],
   "source": [
    "#  Renombrar columnas\n",
    "\n",
    "data_event.rename(columns={'EventName': 'event_name', 'DeviceIDHash': 'device_id_hash', 'EventTimestamp': 'event_timestamp', 'ExpId': 'exp_id'}, inplace=True\n",
    ")\n",
    "\n",
    "# Convertir la columna event_timestamp a tipo datetime\n",
    "data_event['event_timestamp'] = pd.to_datetime(data_event['event_timestamp'] , unit='s')\n",
    "\n",
    "\n",
    "data_event.info()"
   ]
  },
  {
   "cell_type": "code",
   "execution_count": 417,
   "id": "c66a500d",
   "metadata": {},
   "outputs": [
    {
     "name": "stdout",
     "output_type": "stream",
     "text": [
      "              event_name       device_id_hash     event_timestamp  exp_id\n",
      "239766  cartscreenappear  1647818052607402649 2019-08-07 17:56:08     246\n",
      "127761  cartscreenappear  8477202434745371057 2019-08-04 14:22:26     248\n",
      "32816   mainscreenappear  3223064553447902282 2019-08-01 17:57:36     246\n",
      "124144  mainscreenappear  5163035608086605933 2019-08-04 12:41:20     248\n",
      "52284   mainscreenappear  6140853948187673009 2019-08-02 10:34:15     247\n"
     ]
    }
   ],
   "source": [
    "# Estandarización de los datos\n",
    "\n",
    "for col in data_event.select_dtypes(include='object'):\n",
    "    data_event[col] = data_event[col].str.lower()\n",
    "    \n",
    "print(data_event.sample(n=5))"
   ]
  },
  {
   "cell_type": "code",
   "execution_count": 418,
   "id": "1da45413",
   "metadata": {},
   "outputs": [
    {
     "name": "stdout",
     "output_type": "stream",
     "text": [
      "                     event_name       device_id_hash     event_timestamp  \\\n",
      "139702       offersscreenappear  3676147430823149411 2019-08-04 20:52:16   \n",
      "132129         cartscreenappear  4636703093769570196 2019-08-04 16:17:44   \n",
      "147681  paymentscreensuccessful  8242035105429673674 2019-08-05 08:09:23   \n",
      "30213          mainscreenappear  1866081895270239546 2019-08-01 16:54:36   \n",
      "98698          mainscreenappear  4820610343436068485 2019-08-03 15:52:26   \n",
      "\n",
      "        exp_id        date      time  \n",
      "139702     248  2019-08-04  20:52:16  \n",
      "132129     246  2019-08-04  16:17:44  \n",
      "147681     246  2019-08-05  08:09:23  \n",
      "30213      247  2019-08-01  16:54:36  \n",
      "98698      246  2019-08-03  15:52:26  \n"
     ]
    }
   ],
   "source": [
    "# Creacion de las columans date y time \n",
    "\n",
    "data_event['date'] = data_event['event_timestamp'].dt.date\n",
    "data_event['time'] = data_event['event_timestamp'].dt.time\n",
    "\n",
    "print(data_event.sample(n=5))\n",
    "\n"
   ]
  },
  {
   "cell_type": "markdown",
   "id": "abc9c430",
   "metadata": {},
   "source": [
    "# Comprobación de datos\n"
   ]
  },
  {
   "cell_type": "markdown",
   "id": "8c499f98",
   "metadata": {},
   "source": [
    "## ¿Cuántos eventos hay en los registros?"
   ]
  },
  {
   "cell_type": "code",
   "execution_count": 419,
   "id": "ab0daafe",
   "metadata": {},
   "outputs": [
    {
     "name": "stdout",
     "output_type": "stream",
     "text": [
      "event_name\n",
      "mainscreenappear           119101\n",
      "offersscreenappear          46808\n",
      "cartscreenappear            42668\n",
      "paymentscreensuccessful     34118\n",
      "tutorial                     1018\n",
      "Name: count, dtype: int64\n"
     ]
    },
    {
     "data": {
      "image/png": "[encoded data removed]",
      "text/plain": [
       "<Figure size 800x500 with 1 Axes>"
      ]
     },
     "metadata": {},
     "output_type": "display_data"
    }
   ],
   "source": [
    "# Cantidad de eventos en  los regitros\n",
    "\n",
    "event_counts = data_event['event_name'].value_counts()\n",
    "print(event_counts)\n",
    "\n",
    "# grafico de la cantidad de eventos por nombre\n",
    "plt.figure(figsize=(8, 5))\n",
    "sns.countplot(data=data_event, x='event_name', order=data_event['event_name'].value_counts().index, palette='coolwarm',hue='event_name')\n",
    "plt.xlabel('Nombre del evento')\n",
    "plt.title('Cantidad de eventos por nombre')\n",
    "plt.xticks(rotation=45)\n",
    "plt.show()\n"
   ]
  },
  {
   "cell_type": "markdown",
   "id": "eceb925f",
   "metadata": {},
   "source": [
    "### Analisis Preliminar\n",
    "\n",
    "- De acuerdo a los registros, hay un 5 tipos de eventos en los cuales se encuentran:\n",
    "    - ``mainscreenappear``: 119101 interacciones\n",
    "    - ``offersscreenappear``: 46808 interacciones\n",
    "    - ``cartscreenappear``: 42668 interacciones\n",
    "    - ``paymentscreensuccessful``: 34118 interacciones\n",
    "    - ``tutorial``: 1018 interacciones\n",
    "Esto desglosa un total de 211713 interacciones en la aplicación  y nos da una ida de el comportamiento de los usuarios en la aplicación.\n",
    "\n",
    "- La mayoría de los eventos son ``mainscreenappear`` y ``offersscreenappear``, lo que indica que los usuarios pasan más tiempo en la pantalla principal y en la pantalla de ofertas."
   ]
  },
  {
   "cell_type": "markdown",
   "id": "3c3876f3",
   "metadata": {},
   "source": [
    "## ¿Cuántos usuarios hay en los registros?\n",
    "\n"
   ]
  },
  {
   "cell_type": "code",
   "execution_count": 420,
   "id": "d0de6fea",
   "metadata": {},
   "outputs": [
    {
     "name": "stdout",
     "output_type": "stream",
     "text": [
      "Cantidad de usuarios únicos: 7551\n"
     ]
    }
   ],
   "source": [
    "# Cantidad de usuarios en los registros\n",
    "\n",
    "user_counts = data_event['device_id_hash'].nunique()\n",
    "print(f'Cantidad de usuarios únicos: {user_counts}')\n",
    "\n"
   ]
  },
  {
   "cell_type": "markdown",
   "id": "705d4e74",
   "metadata": {},
   "source": [
    "### Cantidad de usuarios únicos\n",
    "- En total hay ``7551 usuarios únicos en los registros``, lo que indica que la aplicación tiene una base de usuarios relativamente pequeña. Esto puede ser un factor limitante al analizar el comportamiento de los usuarios y la efectividad del experimento A/A/B."
   ]
  },
  {
   "cell_type": "markdown",
   "id": "a49acab3",
   "metadata": {},
   "source": [
    "# ¿Cuál es el promedio de eventos por usuario?"
   ]
  },
  {
   "cell_type": "code",
   "execution_count": 421,
   "id": "f99e9bd6",
   "metadata": {},
   "outputs": [
    {
     "name": "stdout",
     "output_type": "stream",
     "text": [
      "           device_id_hash  event_count\n",
      "0        6888746892508752            1\n",
      "1        6909561520679493            5\n",
      "2        6922444491712477           47\n",
      "3        7435777799948366            6\n",
      "4        7702139951469979          137\n",
      "...                   ...          ...\n",
      "7546  9217594193087726423            9\n",
      "7547  9219463515465815368           17\n",
      "7548  9220879493065341500            7\n",
      "7549  9221926045299980007            7\n",
      "7550  9222603179720523844           59\n",
      "\n",
      "[7551 rows x 2 columns]\n"
     ]
    },
    {
     "data": {
      "image/png": "[encoded data removed]",
      "text/plain": [
       "<Figure size 1000x600 with 1 Axes>"
      ]
     },
     "metadata": {},
     "output_type": "display_data"
    }
   ],
   "source": [
    "# Cantidad de eventos por usuario\n",
    "\n",
    "user_event_counts = data_event.groupby('device_id_hash')['event_name'].count().reset_index()\n",
    "user_event_counts.columns = ['device_id_hash', 'event_count']\n",
    "print(user_event_counts)\n",
    "\n",
    "# grafico de la cantidad de eventos por usuario\n",
    "\n",
    "plt.figure(figsize=(10, 6))\n",
    "sns.histplot(user_event_counts['event_count'], bins=90, color='skyblue')\n",
    "plt.title('Distribución de eventos por usuario')\n",
    "plt.xlabel('Número de eventos')\n",
    "plt.ylabel('Cantidad de usuarios')\n",
    "plt.grid(True)\n",
    "plt.show()\n"
   ]
  },
  {
   "cell_type": "code",
   "execution_count": 422,
   "id": "d1f9a1a8",
   "metadata": {},
   "outputs": [
    {
     "name": "stdout",
     "output_type": "stream",
     "text": [
      "\n",
      "Promedio de eventos por usuario: 32.28\n",
      "\n",
      "Moda de eventos por usuario: 5.00\n"
     ]
    }
   ],
   "source": [
    "# Promedio de eventos por usuario\n",
    "avg_events = user_event_counts['event_count'].mean()\n",
    "print(f\"\\nPromedio de eventos por usuario: {avg_events:.2f}\")\n",
    "\n",
    "# Moda de los datos\n",
    "\n",
    "user_events_mode = user_event_counts['event_count'].mode()\n",
    "\n",
    "print(f\"\\nModa de eventos por usuario: {user_events_mode[0]:.2f}\")\n"
   ]
  },
  {
   "cell_type": "markdown",
   "id": "1f34b146",
   "metadata": {},
   "source": [
    "### Análisis de eventos por usuario\n",
    "\n",
    "- El promedio de eventos por usuario es de ``32 interacciones`` , lo que indica que los usuarios interactúan con la aplicación en múltiples ocasiones. Esto sugiere que la aplicación tiene un nivel de compromiso moderado, ya que los usuarios están dispuestos a interactuar con ella en varias ocasiones.\n",
    "- Teniendo en cuenta que la distribucion no representan un comportamiento normal se hace necesario recurrir a la 'moda' de los datos para saber con certeza la duracion de cada usuario real.\n",
    "\n",
    "- La moda de eventos por usuario es de ``5 interacciones`` , lo que significa que la mayoría de los usuarios tienden a interactuar con la aplicación alrededor de 5 veces. Esto puede ser un indicador de que hay un grupo de usuarios muy activos que utilizan la aplicación con frecuencia, mientras que otros pueden estar menos comprometidos."
   ]
  }
 ],
 "metadata": {
  "kernelspec": {
   "display_name": "Python 3",
   "language": "python",
   "name": "python3"
  },
  "language_info": {
   "codemirror_mode": {
    "name": "ipython",
    "version": 3
   },
   "file_extension": ".py",
   "mimetype": "text/x-python",
   "name": "python",
   "nbconvert_exporter": "python",
   "pygments_lexer": "ipython3",
   "version": "3.13.0"
  }
 },
 "nbformat": 4,
 "nbformat_minor": 5
}
