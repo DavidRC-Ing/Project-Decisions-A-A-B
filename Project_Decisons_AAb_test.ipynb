{
 "cells": [
  {
   "cell_type": "markdown",
   "id": "a5979cd5",
   "metadata": {},
   "source": [
    "# PROYECTO TOMA DE DESICIONES A/A/B TEST\n"
   ]
  },
  {
   "cell_type": "markdown",
   "id": "6b1119bd",
   "metadata": {},
   "source": [
    "## Introducción\n",
    "\n",
    "En el entorno altamente competitivo de las aplicaciones móviles de comercio electrónico, comprender el comportamiento del usuario es clave para mejorar la conversión y optimizar la experiencia digital. Este proyecto se desarrolla en el contexto de una empresa emergente dedicada a la venta de productos alimenticios a través de una aplicación móvil. El equipo de diseño propone un cambio en la tipografía de la aplicación para mejorar su apariencia, pero existe preocupación sobre cómo este cambio puede afectar la percepción y la interacción del usuario. Para tomar decisiones fundamentadas, se ha planteado un análisis exhaustivo de los datos de uso de la aplicación, con especial énfasis en el embudo de ventas y en los resultados de un experimento controlado tipo A/A/B."
   ]
  },
  {
   "cell_type": "markdown",
   "id": "87fab8c3",
   "metadata": {},
   "source": [
    "## Objetivo General\n",
    "Analizar el comportamiento de los usuarios dentro de la aplicación de una empresa emergente de productos alimenticios mediante el estudio del embudo de ventas y la evaluación de un experimento A/A/B, con el fin de identificar cuellos de botella en el proceso de conversión y determinar si un cambio en la tipografía tiene un impacto significativo en la interacción de los usuarios."
   ]
  },
  {
   "cell_type": "markdown",
   "id": "f33f47da",
   "metadata": {},
   "source": [
    "## Descripción de los datos\n",
    "Cada entrada de registro es una acción de usuario o un evento.\n",
    "\n",
    "- ``EventName``: nombre del evento.\n",
    "- ``DeviceIDHash``: identificador de usuario unívoco.\n",
    "- ``EventTimestamp``: hora del evento.\n",
    "- ``ExpId``: número de experimento. 246 y 247 son los grupos de control, y 248 es el grupo de prueba."
   ]
  },
  {
   "cell_type": "code",
   "execution_count": 112,
   "id": "51d7a307",
   "metadata": {},
   "outputs": [],
   "source": [
    "# Cargar todas las librerias\n",
    "import pandas as pd \n",
    "import datetime as dt\n",
    "import seaborn as sns\n",
    "import matplotlib.pyplot as plt\n",
    "import scipy.stats as stats\n",
    "import numpy as np"
   ]
  },
  {
   "cell_type": "code",
   "execution_count": 113,
   "id": "a486e771",
   "metadata": {},
   "outputs": [
    {
     "name": "stdout",
     "output_type": "stream",
     "text": [
      "                      EventName         DeviceIDHash  EventTimestamp  ExpId\n",
      "0              MainScreenAppear  4575588528974610257      1564029816    246\n",
      "1              MainScreenAppear  7416695313311560658      1564053102    246\n",
      "2       PaymentScreenSuccessful  3518123091307005509      1564054127    248\n",
      "3              CartScreenAppear  3518123091307005509      1564054127    248\n",
      "4       PaymentScreenSuccessful  6217807653094995999      1564055322    248\n",
      "...                         ...                  ...             ...    ...\n",
      "244121         MainScreenAppear  4599628364049201812      1565212345    247\n",
      "244122         MainScreenAppear  5849806612437486590      1565212439    246\n",
      "244123         MainScreenAppear  5746969938801999050      1565212483    246\n",
      "244124         MainScreenAppear  5746969938801999050      1565212498    246\n",
      "244125       OffersScreenAppear  5746969938801999050      1565212517    246\n",
      "\n",
      "[244126 rows x 4 columns]\n"
     ]
    }
   ],
   "source": [
    "# Cargar el dataset\n",
    "\n",
    "data_event=pd.read_csv('/Users/ASUS/OneDrive/Documentos/Tripleten/Proyecto Spring 11/logs_exp_us.csv', sep='\\t')\n",
    "\n",
    "print(data_event)"
   ]
  },
  {
   "cell_type": "markdown",
   "id": "d8fd1b93",
   "metadata": {},
   "source": [
    "## Prepocesamiento de los datos"
   ]
  },
  {
   "cell_type": "markdown",
   "id": "9dd79c2e",
   "metadata": {},
   "source": [
    "De acuerdo con la descripción del dataset, se realiza un preprocesamiento que incluye la eliminación de duplicados, la conversión de los valores de fecha a un formato compatible y la estandarización de los datos. Este proceso permite organizar la información de manera estructurada, garantizar la correcta asignación de tipos de datos y optimizar el rendimiento durante la ejecución del código, lo cual es fundamental para el desarrollo eficiente del análisis.\n"
   ]
  },
  {
   "cell_type": "code",
   "execution_count": 114,
   "id": "f3758754",
   "metadata": {},
   "outputs": [
    {
     "name": "stdout",
     "output_type": "stream",
     "text": [
      "<class 'pandas.core.frame.DataFrame'>\n",
      "Index: 243713 entries, 0 to 244125\n",
      "Data columns (total 4 columns):\n",
      " #   Column          Non-Null Count   Dtype \n",
      "---  ------          --------------   ----- \n",
      " 0   EventName       243713 non-null  object\n",
      " 1   DeviceIDHash    243713 non-null  int64 \n",
      " 2   EventTimestamp  243713 non-null  int64 \n",
      " 3   ExpId           243713 non-null  int64 \n",
      "dtypes: int64(3), object(1)\n",
      "memory usage: 9.3+ MB\n"
     ]
    }
   ],
   "source": [
    "# Eliminar duplicados\n",
    "data_event.drop_duplicates(inplace=True)\n",
    "\n",
    "data_event.info()"
   ]
  },
  {
   "cell_type": "code",
   "execution_count": 115,
   "id": "93a7b6e3",
   "metadata": {},
   "outputs": [
    {
     "name": "stdout",
     "output_type": "stream",
     "text": [
      "<class 'pandas.core.frame.DataFrame'>\n",
      "Index: 243713 entries, 0 to 244125\n",
      "Data columns (total 4 columns):\n",
      " #   Column           Non-Null Count   Dtype         \n",
      "---  ------           --------------   -----         \n",
      " 0   event_name       243713 non-null  object        \n",
      " 1   device_id_hash   243713 non-null  int64         \n",
      " 2   event_timestamp  243713 non-null  datetime64[ns]\n",
      " 3   exp_id           243713 non-null  int64         \n",
      "dtypes: datetime64[ns](1), int64(2), object(1)\n",
      "memory usage: 9.3+ MB\n"
     ]
    }
   ],
   "source": [
    "#  Renombrar columnas\n",
    "\n",
    "data_event.rename(columns={'EventName': 'event_name', 'DeviceIDHash': 'device_id_hash', 'EventTimestamp': 'event_timestamp', 'ExpId': 'exp_id'}, inplace=True\n",
    ")\n",
    "\n",
    "# Convertir la columna event_timestamp a tipo datetime\n",
    "data_event['event_timestamp'] = pd.to_datetime(data_event['event_timestamp'] , unit='s')\n",
    "\n",
    "\n",
    "data_event.info()"
   ]
  },
  {
   "cell_type": "code",
   "execution_count": 116,
   "id": "c66a500d",
   "metadata": {},
   "outputs": [
    {
     "name": "stdout",
     "output_type": "stream",
     "text": [
      "                     event_name       device_id_hash     event_timestamp  \\\n",
      "227273       offersscreenappear   518781617060869985 2019-08-07 12:24:45   \n",
      "22363   paymentscreensuccessful  9070154092758386922 2019-08-01 13:52:50   \n",
      "118414         mainscreenappear  6816978929914477854 2019-08-04 10:20:56   \n",
      "178888         mainscreenappear  8092747482833887138 2019-08-06 04:21:05   \n",
      "203563       offersscreenappear  2747519232871077339 2019-08-06 16:29:16   \n",
      "\n",
      "        exp_id  \n",
      "227273     246  \n",
      "22363      246  \n",
      "118414     248  \n",
      "178888     246  \n",
      "203563     248  \n"
     ]
    }
   ],
   "source": [
    "# Estandarización de los datos\n",
    "\n",
    "for col in data_event.select_dtypes(include='object'):\n",
    "    data_event[col] = data_event[col].str.lower()\n",
    "    \n",
    "print(data_event.sample(n=5))"
   ]
  }
 ],
 "metadata": {
  "kernelspec": {
   "display_name": "Python 3",
   "language": "python",
   "name": "python3"
  },
  "language_info": {
   "codemirror_mode": {
    "name": "ipython",
    "version": 3
   },
   "file_extension": ".py",
   "mimetype": "text/x-python",
   "name": "python",
   "nbconvert_exporter": "python",
   "pygments_lexer": "ipython3",
   "version": "3.13.0"
  }
 },
 "nbformat": 4,
 "nbformat_minor": 5
}
